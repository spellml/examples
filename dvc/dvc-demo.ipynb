{
 "cells": [
  {
   "cell_type": "markdown",
   "metadata": {},
   "source": [
    "# dvc-demo\n",
    "\n",
    "This notebook is a demonstration of using DVC on Spell. To learn more refer to the accompanying blog post: [\"Using DVC as a lightweight feature store on Spell\"](https://spell.ml/blog/using-dvc-with-spell-YBHOChEAACgAaSmV)."
   ]
  },
  {
   "cell_type": "markdown",
   "metadata": {},
   "source": [
    "## getting the data\n",
    "\n",
    "For the purposes of this demonstration, we will use a sample from the dataset [A Year of Pumpkin Prices](https://www.kaggle.com/usda/a-year-of-pumpkin-prices) on Kaggle (specifically, `new-york_9-24-2016_9-30-2017.csv`).\n",
    "\n",
    "To begin, I downloaded the data to the file `new_york_pumpkin_prices.csv` on my local machine (if you are running this code in a Spell workspace, you can `spell upload` this file, then mount it into your workspace):"
   ]
  },
  {
   "cell_type": "code",
   "execution_count": 5,
   "metadata": {},
   "outputs": [
    {
     "data": {
      "text/html": [
       "<div>\n",
       "<style scoped>\n",
       "    .dataframe tbody tr th:only-of-type {\n",
       "        vertical-align: middle;\n",
       "    }\n",
       "\n",
       "    .dataframe tbody tr th {\n",
       "        vertical-align: top;\n",
       "    }\n",
       "\n",
       "    .dataframe thead th {\n",
       "        text-align: right;\n",
       "    }\n",
       "</style>\n",
       "<table border=\"1\" class=\"dataframe\">\n",
       "  <thead>\n",
       "    <tr style=\"text-align: right;\">\n",
       "      <th></th>\n",
       "      <th>Commodity Name</th>\n",
       "      <th>City Name</th>\n",
       "      <th>Type</th>\n",
       "      <th>Package</th>\n",
       "      <th>Variety</th>\n",
       "      <th>Sub Variety</th>\n",
       "      <th>Grade</th>\n",
       "      <th>Date</th>\n",
       "      <th>Low Price</th>\n",
       "      <th>High Price</th>\n",
       "      <th>...</th>\n",
       "      <th>Color</th>\n",
       "      <th>Environment</th>\n",
       "      <th>Unit of Sale</th>\n",
       "      <th>Quality</th>\n",
       "      <th>Condition</th>\n",
       "      <th>Appearance</th>\n",
       "      <th>Storage</th>\n",
       "      <th>Crop</th>\n",
       "      <th>Repack</th>\n",
       "      <th>Trans Mode</th>\n",
       "    </tr>\n",
       "  </thead>\n",
       "  <tbody>\n",
       "    <tr>\n",
       "      <th>0</th>\n",
       "      <td>PUMPKINS</td>\n",
       "      <td>NEW YORK</td>\n",
       "      <td>NaN</td>\n",
       "      <td>36 inch bins</td>\n",
       "      <td>HOWDEN TYPE</td>\n",
       "      <td>NaN</td>\n",
       "      <td>NaN</td>\n",
       "      <td>09/24/2016</td>\n",
       "      <td>150</td>\n",
       "      <td>170</td>\n",
       "      <td>...</td>\n",
       "      <td>NaN</td>\n",
       "      <td>NaN</td>\n",
       "      <td>NaN</td>\n",
       "      <td>NaN</td>\n",
       "      <td>NaN</td>\n",
       "      <td>NaN</td>\n",
       "      <td>NaN</td>\n",
       "      <td>NaN</td>\n",
       "      <td>N</td>\n",
       "      <td>NaN</td>\n",
       "    </tr>\n",
       "    <tr>\n",
       "      <th>1</th>\n",
       "      <td>PUMPKINS</td>\n",
       "      <td>NEW YORK</td>\n",
       "      <td>NaN</td>\n",
       "      <td>36 inch bins</td>\n",
       "      <td>HOWDEN TYPE</td>\n",
       "      <td>NaN</td>\n",
       "      <td>NaN</td>\n",
       "      <td>09/24/2016</td>\n",
       "      <td>150</td>\n",
       "      <td>170</td>\n",
       "      <td>...</td>\n",
       "      <td>NaN</td>\n",
       "      <td>NaN</td>\n",
       "      <td>NaN</td>\n",
       "      <td>NaN</td>\n",
       "      <td>NaN</td>\n",
       "      <td>NaN</td>\n",
       "      <td>NaN</td>\n",
       "      <td>NaN</td>\n",
       "      <td>N</td>\n",
       "      <td>NaN</td>\n",
       "    </tr>\n",
       "    <tr>\n",
       "      <th>2</th>\n",
       "      <td>PUMPKINS</td>\n",
       "      <td>NEW YORK</td>\n",
       "      <td>NaN</td>\n",
       "      <td>36 inch bins</td>\n",
       "      <td>HOWDEN TYPE</td>\n",
       "      <td>NaN</td>\n",
       "      <td>NaN</td>\n",
       "      <td>09/24/2016</td>\n",
       "      <td>130</td>\n",
       "      <td>150</td>\n",
       "      <td>...</td>\n",
       "      <td>NaN</td>\n",
       "      <td>NaN</td>\n",
       "      <td>NaN</td>\n",
       "      <td>NaN</td>\n",
       "      <td>NaN</td>\n",
       "      <td>NaN</td>\n",
       "      <td>NaN</td>\n",
       "      <td>NaN</td>\n",
       "      <td>N</td>\n",
       "      <td>NaN</td>\n",
       "    </tr>\n",
       "    <tr>\n",
       "      <th>3</th>\n",
       "      <td>PUMPKINS</td>\n",
       "      <td>NEW YORK</td>\n",
       "      <td>NaN</td>\n",
       "      <td>36 inch bins</td>\n",
       "      <td>HOWDEN TYPE</td>\n",
       "      <td>NaN</td>\n",
       "      <td>NaN</td>\n",
       "      <td>09/24/2016</td>\n",
       "      <td>130</td>\n",
       "      <td>150</td>\n",
       "      <td>...</td>\n",
       "      <td>NaN</td>\n",
       "      <td>NaN</td>\n",
       "      <td>NaN</td>\n",
       "      <td>NaN</td>\n",
       "      <td>NaN</td>\n",
       "      <td>NaN</td>\n",
       "      <td>NaN</td>\n",
       "      <td>NaN</td>\n",
       "      <td>N</td>\n",
       "      <td>NaN</td>\n",
       "    </tr>\n",
       "    <tr>\n",
       "      <th>4</th>\n",
       "      <td>PUMPKINS</td>\n",
       "      <td>NEW YORK</td>\n",
       "      <td>NaN</td>\n",
       "      <td>36 inch bins</td>\n",
       "      <td>HOWDEN TYPE</td>\n",
       "      <td>NaN</td>\n",
       "      <td>NaN</td>\n",
       "      <td>09/24/2016</td>\n",
       "      <td>120</td>\n",
       "      <td>140</td>\n",
       "      <td>...</td>\n",
       "      <td>NaN</td>\n",
       "      <td>NaN</td>\n",
       "      <td>NaN</td>\n",
       "      <td>NaN</td>\n",
       "      <td>NaN</td>\n",
       "      <td>NaN</td>\n",
       "      <td>NaN</td>\n",
       "      <td>NaN</td>\n",
       "      <td>N</td>\n",
       "      <td>NaN</td>\n",
       "    </tr>\n",
       "  </tbody>\n",
       "</table>\n",
       "<p>5 rows × 25 columns</p>\n",
       "</div>"
      ],
      "text/plain": [
       "  Commodity Name City Name  Type       Package      Variety Sub Variety  \\\n",
       "0       PUMPKINS  NEW YORK   NaN  36 inch bins  HOWDEN TYPE         NaN   \n",
       "1       PUMPKINS  NEW YORK   NaN  36 inch bins  HOWDEN TYPE         NaN   \n",
       "2       PUMPKINS  NEW YORK   NaN  36 inch bins  HOWDEN TYPE         NaN   \n",
       "3       PUMPKINS  NEW YORK   NaN  36 inch bins  HOWDEN TYPE         NaN   \n",
       "4       PUMPKINS  NEW YORK   NaN  36 inch bins  HOWDEN TYPE         NaN   \n",
       "\n",
       "   Grade        Date  Low Price  High Price  ...  Color  Environment  \\\n",
       "0    NaN  09/24/2016        150         170  ...    NaN          NaN   \n",
       "1    NaN  09/24/2016        150         170  ...    NaN          NaN   \n",
       "2    NaN  09/24/2016        130         150  ...    NaN          NaN   \n",
       "3    NaN  09/24/2016        130         150  ...    NaN          NaN   \n",
       "4    NaN  09/24/2016        120         140  ...    NaN          NaN   \n",
       "\n",
       "  Unit of Sale Quality Condition Appearance  Storage Crop  Repack  Trans Mode  \n",
       "0          NaN     NaN       NaN        NaN      NaN  NaN       N         NaN  \n",
       "1          NaN     NaN       NaN        NaN      NaN  NaN       N         NaN  \n",
       "2          NaN     NaN       NaN        NaN      NaN  NaN       N         NaN  \n",
       "3          NaN     NaN       NaN        NaN      NaN  NaN       N         NaN  \n",
       "4          NaN     NaN       NaN        NaN      NaN  NaN       N         NaN  \n",
       "\n",
       "[5 rows x 25 columns]"
      ]
     },
     "execution_count": 5,
     "metadata": {},
     "output_type": "execute_result"
    }
   ],
   "source": [
    "import pandas as pd\n",
    "pd.read_csv(\"new_york_city_pumpkin_prices.csv\").head()"
   ]
  },
  {
   "cell_type": "markdown",
   "metadata": {},
   "source": [
    "This is a simple dataset of pumpkin prices (`Low Price`, `High Price`) by `Variety` and `Item Size` sold in New York City in the days prior to Halloween 2016."
   ]
  },
  {
   "cell_type": "markdown",
   "metadata": {},
   "source": [
    "## versioning it locally using dvc"
   ]
  },
  {
   "cell_type": "markdown",
   "metadata": {},
   "source": [
    "To initialize DVC, run `dvc init` (we use `--subdir` here because this demo is specific to the `dvc` directory in `spellml/examples` only). To add data to DVC, run `dvc add`."
   ]
  },
  {
   "cell_type": "code",
   "execution_count": 7,
   "metadata": {},
   "outputs": [
    {
     "name": "stdout",
     "output_type": "stream",
     "text": [
      "\n",
      "You can now commit the changes to git.\n",
      "\n",
      "\u001b[31m+---------------------------------------------------------------------+\n",
      "\u001b[0m\u001b[31m|\u001b[0m                                                                     \u001b[31m|\u001b[0m\n",
      "\u001b[31m|\u001b[0m        DVC has enabled anonymous aggregate usage analytics.         \u001b[31m|\u001b[0m\n",
      "\u001b[31m|\u001b[0m     Read the analytics documentation (and how to opt-out) here:     \u001b[31m|\u001b[0m\n",
      "\u001b[31m|\u001b[0m             <\u001b[36mhttps://dvc.org/doc/user-guide/analytics\u001b[39m>              \u001b[31m|\u001b[0m\n",
      "\u001b[31m|\u001b[0m                                                                     \u001b[31m|\u001b[0m\n",
      "\u001b[31m+---------------------------------------------------------------------+\n",
      "\u001b[0m\n",
      "\u001b[33mWhat's next?\u001b[39m\n",
      "\u001b[33m------------\u001b[39m\n",
      "- Check out the documentation: <\u001b[36mhttps://dvc.org/doc\u001b[39m>\n",
      "- Get help and share ideas: <\u001b[36mhttps://dvc.org/chat\u001b[39m>\n",
      "- Star us on GitHub: <\u001b[36mhttps://github.com/iterative/dvc\u001b[39m>\n",
      "\u001b[0m"
     ]
    }
   ],
   "source": [
    "!dvc init --subdir"
   ]
  },
  {
   "cell_type": "code",
   "execution_count": 10,
   "metadata": {},
   "outputs": [
    {
     "name": "stdout",
     "output_type": "stream",
     "text": [
      "devc-demo.ipynb                   new_york_city_pumpkin_prices.csv\n"
     ]
    }
   ],
   "source": [
    "%ls"
   ]
  },
  {
   "cell_type": "code",
   "execution_count": 11,
   "metadata": {},
   "outputs": [
    {
     "name": "stdout",
     "output_type": "stream",
     "text": [
      "100% Add|██████████████████████████████████████████████|1/1 [00:00,  1.86file/s]\n",
      "\n",
      "To track the changes with git, run:\n",
      "\n",
      "\tgit add new_york_city_pumpkin_prices.csv.dvc .gitignore\n",
      "\u001b[0m"
     ]
    }
   ],
   "source": [
    "!dvc add new_york_city_pumpkin_prices.csv"
   ]
  },
  {
   "cell_type": "markdown",
   "metadata": {},
   "source": [
    "Running `dvc add` does three things. First, it creates a `[...].dvc` file containing the MD5 content hash of the file."
   ]
  },
  {
   "cell_type": "code",
   "execution_count": 12,
   "metadata": {},
   "outputs": [
    {
     "name": "stdout",
     "output_type": "stream",
     "text": [
      "devc-demo.ipynb                       new_york_city_pumpkin_prices.csv.dvc\n",
      "new_york_city_pumpkin_prices.csv\n"
     ]
    }
   ],
   "source": [
    "%ls"
   ]
  },
  {
   "cell_type": "code",
   "execution_count": 13,
   "metadata": {},
   "outputs": [
    {
     "name": "stdout",
     "output_type": "stream",
     "text": [
      "outs:\n",
      "- md5: 10ac52bb2b805fe1a9de704d2f5a5be1\n",
      "  size: 11875\n",
      "  path: new_york_city_pumpkin_prices.csv\n"
     ]
    }
   ],
   "source": [
    "!cat new_york_city_pumpkin_prices.csv.dvc"
   ]
  },
  {
   "cell_type": "markdown",
   "metadata": {},
   "source": [
    "Second, it adds the actual CSV file itself to your `.gitignore`. DVC will handle version controlling the data now instead of `git`."
   ]
  },
  {
   "cell_type": "code",
   "execution_count": 14,
   "metadata": {},
   "outputs": [
    {
     "name": "stdout",
     "output_type": "stream",
     "text": [
      "/new_york_city_pumpkin_prices.csv\n"
     ]
    }
   ],
   "source": [
    "!cat .gitignore"
   ]
  },
  {
   "cell_type": "markdown",
   "metadata": {},
   "source": [
    "Third, it stores a copy of the dataset in a [content addressable storage](https://en.wikipedia.org/wiki/Content-addressable_storage) filesystem inside the special `.dvc` directory."
   ]
  },
  {
   "cell_type": "code",
   "execution_count": 16,
   "metadata": {},
   "outputs": [
    {
     "name": "stdout",
     "output_type": "stream",
     "text": [
      "\u001b[1m\u001b[36m10\u001b[m\u001b[m/\n"
     ]
    }
   ],
   "source": [
    "%ls .dvc/cache/"
   ]
  },
  {
   "cell_type": "code",
   "execution_count": 18,
   "metadata": {},
   "outputs": [
    {
     "name": "stdout",
     "output_type": "stream",
     "text": [
      "ac52bb2b805fe1a9de704d2f5a5be1\n"
     ]
    }
   ],
   "source": [
    "%ls .dvc/cache/10/"
   ]
  },
  {
   "cell_type": "code",
   "execution_count": 19,
   "metadata": {},
   "outputs": [
    {
     "name": "stdout",
     "output_type": "stream",
     "text": [
      "Commodity Name,City Name,Type,Package,Variety,Sub Variety,Grade,Date,Low Price,High Price,Mostly Low,Mostly High,Origin,Origin District,Item Size,Color,Environment,Unit of Sale,Quality,Condition,Appearance,Storage,Crop,Repack,Trans Mode\n",
      "PUMPKINS,NEW YORK,,36 inch bins,HOWDEN TYPE,,,09/24/2016,150,170,150,170,MICHIGAN,,xlge,,,,,,,,,N,\n",
      "PUMPKINS,NEW YORK,,36 inch bins,HOWDEN TYPE,,,09/24/2016,150,170,150,170,MICHIGAN,,lge,,,,,,,,,N,\n",
      "PUMPKINS,NEW YORK,,36 inch bins,HOWDEN TYPE,,,09/24/2016,130,150,130,150,NEW JERSEY,,xlge,,,,,,,,,N,\n",
      "PUMPKINS,NEW YORK,,36 inch bins,HOWDEN TYPE,,,09/24/2016,130,150,130,150,NEW JERSEY,,lge,,,,,,,,,N,\n",
      "PUMPKINS,NEW YORK,,36 inch bins,HOWDEN TYPE,,,09/24/2016,120,140,120,140,NEW YORK,,med-lge,,,,,,,,,N,\n",
      "PUMPKINS,NEW YORK,,36 inch bins,HOWDEN TYPE,,,09/24/2016,150,170,150,170,PENNSYLVANIA,,xlge,,,,,,,,,N,\n",
      "PUMPKINS,NEW YORK,,36 inch bins,HOWDEN TYPE,,,09/24/2016,120,170,120,170,PENNSYLVANIA,,lge,,,,,,,,,N,\n",
      "PUMPKINS,NEW YORK,,36 inch bins,HOWDEN TYPE,,,09/24/2016,180,190,180,190,PENNSYLVANIA,,med,,,,,,,,,N,\n",
      "PUMPKINS,NEW YORK,,36 inch bins,HOWDEN TYPE,,,10/01/2016,150,170,150,170,MICHIGAN,,xlge,,,,,,,,,N,\n"
     ]
    }
   ],
   "source": [
    "!head .dvc/cache/10/ac52bb2b805fe1a9de704d2f5a5be1"
   ]
  },
  {
   "cell_type": "markdown",
   "metadata": {},
   "source": [
    "At this point, `dvc checkout` can be used to rehydrate `new_york_city_pumpkin_prices.csv`. This is helpful should be lose the file, or perhaps revert to an old commit that used an older version of this dataset."
   ]
  },
  {
   "cell_type": "code",
   "execution_count": 23,
   "metadata": {},
   "outputs": [],
   "source": [
    "!rm new_york_city_pumpkin_prices.csv"
   ]
  },
  {
   "cell_type": "code",
   "execution_count": 24,
   "metadata": {},
   "outputs": [
    {
     "name": "stdout",
     "output_type": "stream",
     "text": [
      "\u001b[32mA\u001b[39m\tnew_york_city_pumpkin_prices.csv                                    \n",
      "\u001b[0m"
     ]
    }
   ],
   "source": [
    "!dvc checkout"
   ]
  },
  {
   "cell_type": "markdown",
   "metadata": {},
   "source": [
    "## versioning it remotely using dvc"
   ]
  },
  {
   "cell_type": "markdown",
   "metadata": {},
   "source": [
    "So far everything we have done has used local storage. However, DVC's most interesting feature&mdash;it's \"killer app\", if you will&mdash;is the ability to use remote storage.\n",
    "\n",
    "To do this, you configure and use a **remote**. A remote in a DVC is a cloud-based entity&mdash;an S3 or GCS bucket, typically&mdash;that serves as the central storage space for your project's data.\n",
    "\n",
    "Setting a remote is easy to do, using `dvc remote add`:"
   ]
  },
  {
   "cell_type": "code",
   "execution_count": 38,
   "metadata": {},
   "outputs": [
    {
     "name": "stdout",
     "output_type": "stream",
     "text": [
      "\u001b[0m"
     ]
    }
   ],
   "source": [
    "!dvc remote add spell-datasets-share s3://spell-datasets-share/dvc/"
   ]
  },
  {
   "cell_type": "code",
   "execution_count": 41,
   "metadata": {},
   "outputs": [
    {
     "name": "stdout",
     "output_type": "stream",
     "text": [
      "\u001b[0m"
     ]
    }
   ],
   "source": [
    "# This line is only needed if you want DVC to use the non-default AWS profile.\n",
    "!dvc remote modify spell-datasets-share profile spell2"
   ]
  },
  {
   "cell_type": "markdown",
   "metadata": {},
   "source": [
    "This adds a remote with this given name and URL to the project's DVC configuration file, `.dvc/config`:"
   ]
  },
  {
   "cell_type": "code",
   "execution_count": 42,
   "metadata": {},
   "outputs": [
    {
     "name": "stdout",
     "output_type": "stream",
     "text": [
      "['remote \"spell-datasets-share\"']\n",
      "    url = s3://spell-datasets-share/dvc/\n",
      "    profile = spell2\n"
     ]
    }
   ],
   "source": [
    "!cat .dvc/config"
   ]
  },
  {
   "cell_type": "markdown",
   "metadata": {},
   "source": [
    "We can now use `dvc push` to send that data to S3:"
   ]
  },
  {
   "cell_type": "code",
   "execution_count": 43,
   "metadata": {},
   "outputs": [
    {
     "name": "stdout",
     "output_type": "stream",
     "text": [
      "  0% Uploading|                                      |0/1 [00:00<?,     ?file/s]\n",
      "!\u001b[A\n",
      "  0%|          |new_york_city_pumpkin_prices.cs0.00/11.6k [00:00<?,        ?B/s]\u001b[A\n",
      "100%|██████████|new_york_city_pumpkin_pric11.6k/11.6k [00:00<00:00,    93.4kB/s]\u001b[A\n",
      "1 file pushed                                                                   \u001b[A\n",
      "\u001b[0m"
     ]
    }
   ],
   "source": [
    "!dvc push --remote spell-datasets-share"
   ]
  },
  {
   "cell_type": "code",
   "execution_count": 44,
   "metadata": {},
   "outputs": [
    {
     "name": "stdout",
     "output_type": "stream",
     "text": [
      "                           PRE 10/\n"
     ]
    }
   ],
   "source": [
    "!aws s3 ls s3://spell-datasets-share/dvc/ --profile spell2"
   ]
  },
  {
   "cell_type": "code",
   "execution_count": 45,
   "metadata": {},
   "outputs": [
    {
     "name": "stdout",
     "output_type": "stream",
     "text": [
      "2021-01-26 11:15:46      11875 ac52bb2b805fe1a9de704d2f5a5be1\n"
     ]
    }
   ],
   "source": [
    "!aws s3 ls s3://spell-datasets-share/dvc/10/ --profile spell2"
   ]
  },
  {
   "cell_type": "markdown",
   "metadata": {},
   "source": [
    "We can now easily rehydrate our dataset at any time from remote storage using `dvc pull`:"
   ]
  },
  {
   "cell_type": "code",
   "execution_count": 46,
   "metadata": {},
   "outputs": [],
   "source": [
    "!rm new_york_city_pumpkin_prices.csv"
   ]
  },
  {
   "cell_type": "code",
   "execution_count": 47,
   "metadata": {},
   "outputs": [
    {
     "name": "stdout",
     "output_type": "stream",
     "text": [
      "\u001b[32mA\u001b[39m\tnew_york_city_pumpkin_prices.csv                                    \n",
      "1 file added\n",
      "\u001b[0m"
     ]
    }
   ],
   "source": [
    "!dvc pull --remote spell-datasets-share"
   ]
  },
  {
   "cell_type": "code",
   "execution_count": 48,
   "metadata": {},
   "outputs": [
    {
     "name": "stdout",
     "output_type": "stream",
     "text": [
      "Commodity Name,City Name,Type,Package,Variety,Sub Variety,Grade,Date,Low Price,High Price,Mostly Low,Mostly High,Origin,Origin District,Item Size,Color,Environment,Unit of Sale,Quality,Condition,Appearance,Storage,Crop,Repack,Trans Mode\n",
      "PUMPKINS,NEW YORK,,36 inch bins,HOWDEN TYPE,,,09/24/2016,150,170,150,170,MICHIGAN,,xlge,,,,,,,,,N,\n",
      "PUMPKINS,NEW YORK,,36 inch bins,HOWDEN TYPE,,,09/24/2016,150,170,150,170,MICHIGAN,,lge,,,,,,,,,N,\n",
      "PUMPKINS,NEW YORK,,36 inch bins,HOWDEN TYPE,,,09/24/2016,130,150,130,150,NEW JERSEY,,xlge,,,,,,,,,N,\n",
      "PUMPKINS,NEW YORK,,36 inch bins,HOWDEN TYPE,,,09/24/2016,130,150,130,150,NEW JERSEY,,lge,,,,,,,,,N,\n",
      "PUMPKINS,NEW YORK,,36 inch bins,HOWDEN TYPE,,,09/24/2016,120,140,120,140,NEW YORK,,med-lge,,,,,,,,,N,\n",
      "PUMPKINS,NEW YORK,,36 inch bins,HOWDEN TYPE,,,09/24/2016,150,170,150,170,PENNSYLVANIA,,xlge,,,,,,,,,N,\n",
      "PUMPKINS,NEW YORK,,36 inch bins,HOWDEN TYPE,,,09/24/2016,120,170,120,170,PENNSYLVANIA,,lge,,,,,,,,,N,\n",
      "PUMPKINS,NEW YORK,,36 inch bins,HOWDEN TYPE,,,09/24/2016,180,190,180,190,PENNSYLVANIA,,med,,,,,,,,,N,\n",
      "PUMPKINS,NEW YORK,,36 inch bins,HOWDEN TYPE,,,10/01/2016,150,170,150,170,MICHIGAN,,xlge,,,,,,,,,N,\n"
     ]
    }
   ],
   "source": [
    "!head new_york_city_pumpkin_prices.csv"
   ]
  },
  {
   "cell_type": "markdown",
   "metadata": {},
   "source": [
    "Now *anyone on the team* can rehydrate the complete state of the repository, using Git for the code and DVC for the data, in just a couple of commands. ✨\n",
    "\n",
    "```bash\n",
    "$ git pull\n",
    "$ dvc pull\n",
    "```\n",
    "\n",
    "**We are, in essence, using DVC as a lightweight feature store.** Nifty!"
   ]
  },
  {
   "cell_type": "markdown",
   "metadata": {},
   "source": [
    "## using dvc with spell"
   ]
  },
  {
   "cell_type": "markdown",
   "metadata": {},
   "source": [
    "Spell has the ability to mount S3 and/or GCS buckets directly to the machine using our `--mount` syntax. Because Spell localizes mounted files in a multithreaded, asynchronous manner, this has the potential to offer significant performance benefit over the (single-process, blocking) download behavior of `dvc pull`.\n",
    "\n",
    "For example, I ran this notebook in a Spell workspace that mounts `s3://spell-datasets-share/dvc/` to `/mnt/dvc` on the machine:\n",
    "\n",
    "```bash\n",
    "$ spell jupyter --lab \\\n",
    "    --mount s3://spell-datasets-share/dvc/:/mnt/dvc \\\n",
    "    dvc-demo\n",
    "```\n",
    "\n",
    "I then set up DVC to pull from this remote by default:"
   ]
  },
  {
   "cell_type": "code",
   "execution_count": 2,
   "metadata": {},
   "outputs": [
    {
     "name": "stdout",
     "output_type": "stream",
     "text": [
      "Setting 's3-via-spell' as a default remote.\n",
      "\u001b[0m"
     ]
    }
   ],
   "source": [
    "!dvc remote add --default s3-via-spell /mnt/dvc/"
   ]
  },
  {
   "cell_type": "markdown",
   "metadata": {},
   "source": [
    "Now when I run `dvc pull`:"
   ]
  },
  {
   "cell_type": "code",
   "execution_count": 3,
   "metadata": {},
   "outputs": [
    {
     "name": "stdout",
     "output_type": "stream",
     "text": [
      "  0% Downloading|                                    |0/1 [00:00<?,     ?file/s]\n",
      "!\u001b[A\n",
      "  0%|          |new_york_city_pumpkin_prices.cs0.00/11.9k [00:00<?,       ?it/s]\u001b[A\n",
      "\u001b[32mA\u001b[39m\tnew_york_city_pumpkin_prices.csv                                    \u001b[A\n",
      "1 file added and 1 file fetched\n",
      "\u001b[0m"
     ]
    }
   ],
   "source": [
    "!dvc pull"
   ]
  },
  {
   "cell_type": "markdown",
   "metadata": {},
   "source": [
    "While I was writing this code, Spell has already localized the contents of `s3://spell-datasets-share/dvc/` to disk in the background, so no actual over-the-write data IO had to occur!\n",
    "\n",
    "[Refer to the blog post for more details.](https://spell.ml/blog/using-dvc-with-spell-YBHOChEAACgAaSmV)"
   ]
  }
 ],
 "metadata": {
  "kernelspec": {
   "display_name": "Python 3",
   "language": "python",
   "name": "python3"
  },
  "language_info": {
   "codemirror_mode": {
    "name": "ipython",
    "version": 3
   },
   "file_extension": ".py",
   "mimetype": "text/x-python",
   "name": "python",
   "nbconvert_exporter": "python",
   "pygments_lexer": "ipython3",
   "version": "3.7.9"
  }
 },
 "nbformat": 4,
 "nbformat_minor": 4
}
