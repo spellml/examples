{
 "cells": [
  {
   "cell_type": "markdown",
   "metadata": {},
   "source": [
    "# quickstart\n",
    "\n",
    "This quickstart example will put up a model server which uses a CNN model trained on CIFAR10 dataset to classify images."
   ]
  },
  {
   "cell_type": "markdown",
   "metadata": {},
   "source": [
    "## Create the model"
   ]
  },
  {
   "cell_type": "markdown",
   "metadata": {},
   "source": [
    "To begin, clone the `spell-examples` repository. Then, use the `cifar10_cnn.py` script to train a CNN save it to SpellFS."
   ]
  },
  {
   "cell_type": "code",
   "execution_count": null,
   "metadata": {},
   "outputs": [],
   "source": [
    "%%bash\n",
    "git clone https://github.com/spellml/examples.git\n",
    "cd examples/keras\n",
    "spell run \\\n",
    "    --machine-type k80 \\\n",
    "    --framework tensorflow \\\n",
    "    -- \\\n",
    "    python cifar10_cnn.py \\\n",
    "        --epochs 25 \\\n",
    "        --conv2_filter 65 \\\n",
    "        --conv2_kernel 7 \\\n",
    "        --dense_layer 621 \\\n",
    "        --dropout_3 0.0364"
   ]
  },
  {
   "cell_type": "markdown",
   "metadata": {},
   "source": [
    "These parameters came from a hyperparameter search which was moderately successful. Whatever parameters you chose, it should produce a file at `runs/<RUN ID>/keras/saved_models/keras_cifar10_trained_model.h5` on SpellFS.\n",
    "\n",
    "Finally, we can convert this file into a Spell Model named `cifar10` with the version name `example` from the output of the run.\n"
   ]
  },
  {
   "cell_type": "code",
   "execution_count": null,
   "metadata": {},
   "outputs": [],
   "source": [
    "spell model create \\\n",
    "    --file keras/saved_models/keras_cifar10_trained_model.h5:model.h5 \\\n",
    "    cifar10:example runs/<RUN_ID>"
   ]
  },
  {
   "cell_type": "markdown",
   "metadata": {},
   "source": [
    "The `--file` argument instructs that the file at `keras/saved_models/keras_cifar10_trained_model.h5` should be renamed `model.h5` in this model."
   ]
  },
  {
   "cell_type": "markdown",
   "metadata": {},
   "source": [
    "## Deploy the model server\n",
    "\n",
    "The code used to load and serve this model is contained in `modelservers/cifar/predictor.py` in the `spell-examples` repository. We can create and start a model server with the `cifar10` model with the `spell server serve` command."
   ]
  },
  {
   "cell_type": "code",
   "execution_count": null,
   "metadata": {},
   "outputs": [],
   "source": [
    "spell server serve cifar10:example predictor.py"
   ]
  },
  {
   "cell_type": "markdown",
   "metadata": {},
   "source": [
    "This will create a Kubernetes deployment. Before you can run inference on the model, it needs to initialize. You can check the status of a server and find its URL using the `spell server describe` command."
   ]
  },
  {
   "cell_type": "code",
   "execution_count": null,
   "metadata": {},
   "outputs": [],
   "source": [
    "spell server describe cifar10"
   ]
  },
  {
   "cell_type": "markdown",
   "metadata": {},
   "source": [
    "Once the model server is running, you can test your model server either through issuing a cURL\n",
    "command using the URL given by the `spell server describe` command, or by using the `spell server predict` command. For this example, we have provided a script at `modelservers/cifar/query_server.py` directory of the `spell-examples` repository which takes a path to an image and the URL of the CIFAR model server, base64-encodes the image, and calls its predict endpoint."
   ]
  },
  {
   "cell_type": "code",
   "execution_count": null,
   "metadata": {},
   "outputs": [],
   "source": [
    "python query_server.py http://url.to.model/server/predict path/to/image"
   ]
  }
 ],
 "metadata": {
  "kernelspec": {
   "display_name": "Python 3",
   "language": "python",
   "name": "python3"
  },
  "language_info": {
   "codemirror_mode": {
    "name": "ipython",
    "version": 3
   },
   "file_extension": ".py",
   "mimetype": "text/x-python",
   "name": "python",
   "nbconvert_exporter": "python",
   "pygments_lexer": "ipython3",
   "version": "3.7.6"
  }
 },
 "nbformat": 4,
 "nbformat_minor": 4
}
